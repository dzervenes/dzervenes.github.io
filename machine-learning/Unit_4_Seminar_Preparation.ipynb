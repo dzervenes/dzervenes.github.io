{
  "nbformat": 4,
  "nbformat_minor": 0,
  "metadata": {
    "colab": {
      "provenance": [],
      "authorship_tag": "ABX9TyOUBnvRaSn1UxF9mqsb0Q9O",
      "include_colab_link": true
    },
    "kernelspec": {
      "name": "python3",
      "display_name": "Python 3"
    },
    "language_info": {
      "name": "python"
    }
  },
  "cells": [
    {
      "cell_type": "markdown",
      "metadata": {
        "id": "view-in-github",
        "colab_type": "text"
      },
      "source": [
        "<a href=\"https://colab.research.google.com/github/dzervenes/dzervenes.github.io/blob/master/Unit_4_Seminar_Preparation.ipynb\" target=\"_parent\"><img src=\"https://colab.research.google.com/assets/colab-badge.svg\" alt=\"Open In Colab\"/></a>"
      ]
    },
    {
      "cell_type": "code",
      "execution_count": null,
      "metadata": {
        "colab": {
          "base_uri": "https://localhost:8080/"
        },
        "id": "zXDtqkjGtKm3",
        "outputId": "62f04fcd-842e-4adb-da5c-f3bb0088a743"
      },
      "outputs": [
        {
          "output_type": "stream",
          "name": "stdout",
          "text": [
            " sample_data  'Unit04 Global_GDP.csv'  'Unit04 Global_Population.csv'\n"
          ]
        }
      ],
      "source": [
        "!ls"
      ]
    },
    {
      "cell_type": "markdown",
      "source": [
        "**Loading the csv files**"
      ],
      "metadata": {
        "id": "Hz8jPWC3_WGg"
      }
    },
    {
      "cell_type": "code",
      "source": [
        "import pandas as pd\n",
        "df1 = pd.read_csv('Unit04 Global_GDP.csv')\n",
        "df2 = pd.read_csv('Unit04 Global_Population.csv')"
      ],
      "metadata": {
        "id": "iJlmBRKl-iej"
      },
      "execution_count": null,
      "outputs": []
    },
    {
      "cell_type": "markdown",
      "source": [
        "**Inspecting the data**"
      ],
      "metadata": {
        "id": "AuNWqo-n_ZDP"
      }
    },
    {
      "cell_type": "code",
      "source": [
        "print(df1.head())\n",
        "print(df2.head())"
      ],
      "metadata": {
        "colab": {
          "base_uri": "https://localhost:8080/"
        },
        "id": "EX_QuB9J_e2x",
        "outputId": "78cb4d14-5290-4bf0-e782-a2ef6283b64e"
      },
      "execution_count": null,
      "outputs": [
        {
          "output_type": "stream",
          "name": "stdout",
          "text": [
            "                  Country Name Country Code     Indicator Name  \\\n",
            "0                        Aruba          ABW  GDP (current US$)   \n",
            "1  Africa Eastern and Southern          AFE  GDP (current US$)   \n",
            "2                  Afghanistan          AFG  GDP (current US$)   \n",
            "3   Africa Western and Central          AFW  GDP (current US$)   \n",
            "4                       Angola          AGO  GDP (current US$)   \n",
            "\n",
            "   Indicator Code          1960          1961          1962          1963  \\\n",
            "0  NY.GDP.MKTP.CD           NaN           NaN           NaN           NaN   \n",
            "1  NY.GDP.MKTP.CD  1.929944e+10  1.970954e+10  2.147872e+10  2.571501e+10   \n",
            "2  NY.GDP.MKTP.CD  5.377778e+08  5.488889e+08  5.466667e+08  7.511112e+08   \n",
            "3  NY.GDP.MKTP.CD  1.040428e+10  1.112805e+10  1.194335e+10  1.267652e+10   \n",
            "4  NY.GDP.MKTP.CD           NaN           NaN           NaN           NaN   \n",
            "\n",
            "           1964          1965  ...          2011          2012          2013  \\\n",
            "0           NaN           NaN  ...  2.549721e+09  2.534637e+09  2.727850e+09   \n",
            "1  2.351080e+10  2.679160e+10  ...  9.427110e+11  9.498490e+11  9.635600e+11   \n",
            "2  8.000000e+08  1.006667e+09  ...  1.780511e+10  1.990732e+10  2.014640e+10   \n",
            "3  1.383858e+10  1.486247e+10  ...  6.709630e+11  7.275710e+11  8.207880e+11   \n",
            "4           NaN           NaN  ...  1.117900e+11  1.280530e+11  1.367100e+11   \n",
            "\n",
            "           2014          2015          2016          2017          2018  \\\n",
            "0  2.790849e+09  2.962905e+09  2.983637e+09  3.092430e+09  3.202189e+09   \n",
            "1  9.837490e+11  9.186470e+11  8.720230e+11  9.842560e+11  1.011720e+12   \n",
            "2  2.049713e+10  1.913421e+10  1.811656e+10  1.875347e+10  1.805323e+10   \n",
            "3  8.514870e+11  7.607300e+11  6.905430e+11  6.837420e+11  7.416920e+11   \n",
            "4  1.457120e+11  1.161940e+11  1.011240e+11  1.221240e+11  1.013530e+11   \n",
            "\n",
            "           2019          2020  \n",
            "0           NaN           NaN  \n",
            "1  1.008380e+12  9.188150e+11  \n",
            "2  1.879945e+10  2.011614e+10  \n",
            "3  7.945720e+11  7.845880e+11  \n",
            "4  8.941719e+10  5.837598e+10  \n",
            "\n",
            "[5 rows x 65 columns]\n",
            "                  Country Name Country Code        Series Name  Series Code  \\\n",
            "0                        Aruba          ABW  Population, total  SP.POP.TOTL   \n",
            "1                  Afghanistan          AFG  Population, total  SP.POP.TOTL   \n",
            "2  Africa Eastern and Southern          AFE  Population, total  SP.POP.TOTL   \n",
            "3   Africa Western and Central          AFW  Population, total  SP.POP.TOTL   \n",
            "4                      Albania          ALB  Population, total  SP.POP.TOTL   \n",
            "\n",
            "        1960       1961       1962       1963       1964       1965  ...  \\\n",
            "0      54211      55438      56225      56695      57032      57360  ...   \n",
            "1    8996967    9169406    9351442    9543200    9744772    9956318  ...   \n",
            "2  130836765  134159786  137614644  141202036  144920186  148769974  ...   \n",
            "3   96396419   98407221  100506960  102691339  104953470  107289875  ...   \n",
            "4    1608800    1659800    1711319    1762621    1814135    1864791  ...   \n",
            "\n",
            "        2012       2013       2014       2015       2016       2017  \\\n",
            "0     102560     103159     103774     104341     104872     105366   \n",
            "1   31161378   32269592   33370804   34413603   35383028   36296111   \n",
            "2  547482863  562601578  578075373  593871847  609978946  626392880   \n",
            "3  370243017  380437896  390882979  401586651  412551299  423769930   \n",
            "4    2900401    2895092    2889104    2880703    2876101    2873457   \n",
            "\n",
            "        2018       2019       2020       2021  \n",
            "0     105845     106314        NaN        NaN  \n",
            "1   37171922   38041757   38928341   39835000  \n",
            "2  643090131  660046272  677243299  694664000  \n",
            "3  435229381  446911598  458803476  470898000  \n",
            "4    2866376    2854191    2837743    2832000  \n",
            "\n",
            "[5 rows x 66 columns]\n"
          ]
        }
      ]
    },
    {
      "cell_type": "markdown",
      "source": [
        "**Data overview**\n",
        "\n",
        "These datasets encompass GDP and population data for a wide range of countries and regions from 1960 to 2021. GDP values, measured in current US dollars, reflect annual economic output, while population figures provide a record of total inhabitants over the same timeframe. Although population data is largely complete, there are some gaps, such as missing entries for Aruba in 2020 and 2021. GDP data, on the other hand, exhibits more substantial missing values, especially for smaller economies and earlier years, necessitating careful preprocessing to ensure robust analysis."
      ],
      "metadata": {
        "id": "4UReERApA036"
      }
    },
    {
      "cell_type": "markdown",
      "source": [
        "**Identifying missing values**"
      ],
      "metadata": {
        "id": "HX2LHTBuBf1I"
      }
    },
    {
      "cell_type": "code",
      "source": [
        "print(\"Missing values in GDP data:\")\n",
        "print(df1.isnull().sum())\n",
        "\n",
        "print(\"\\nMissing values in Population data:\")\n",
        "print(df2.isnull().sum())"
      ],
      "metadata": {
        "colab": {
          "base_uri": "https://localhost:8080/"
        },
        "id": "BhuFHkiSBjit",
        "outputId": "731a3082-a518-414f-e593-e176a6cec0b3"
      },
      "execution_count": null,
      "outputs": [
        {
          "output_type": "stream",
          "name": "stdout",
          "text": [
            "Missing values in GDP data:\n",
            "Country Name        0\n",
            "Country Code        0\n",
            "Indicator Name      0\n",
            "Indicator Code      0\n",
            "1960              138\n",
            "                 ... \n",
            "2016               10\n",
            "2017               10\n",
            "2018               10\n",
            "2019               13\n",
            "2020               25\n",
            "Length: 65, dtype: int64\n",
            "\n",
            "Missing values in Population data:\n",
            "Country Name    3\n",
            "Country Code    5\n",
            "Series Name     5\n",
            "Series Code     5\n",
            "1960            5\n",
            "               ..\n",
            "2017            5\n",
            "2018            5\n",
            "2019            5\n",
            "2020            6\n",
            "2021            6\n",
            "Length: 66, dtype: int64\n"
          ]
        }
      ]
    },
    {
      "cell_type": "markdown",
      "source": [
        "**Filling missing values**\n",
        "\n",
        "\n",
        "This code handles missing values in GDP and population data. It identifies columns representing years, fills missing GDP values with the column mean, and converts population data to numeric, replacing non-numeric entries with NaN. Missing population values are then filled with the column mean. Finally, it checks and prints the remaining missing values to ensure the data is clean and consistent for analysis."
      ],
      "metadata": {
        "id": "RuunOo8uCO_A"
      }
    },
    {
      "cell_type": "code",
      "source": [
        "# extracting the GDP year columns\n",
        "year_columns = df1.columns[df1.columns.str.isnumeric()]\n",
        "\n",
        "df1[year_columns] = df1[year_columns].fillna(df1[year_columns].mean())\n",
        "\n",
        "print(\"Missing values in GDP data after filling:\")\n",
        "print(df1.isnull().sum())\n",
        "\n",
        "# extracting the population year columns\n",
        "year_columns = df2.columns[df2.columns.str.isnumeric()]\n",
        "\n",
        "df2[year_columns] = df2[year_columns].apply(pd.to_numeric, errors='coerce')\n",
        "df2[year_columns] = df2[year_columns].fillna(df2[year_columns].mean())\n",
        "print(df2.isnull().sum())"
      ],
      "metadata": {
        "colab": {
          "base_uri": "https://localhost:8080/"
        },
        "id": "pYmhJp_JCQ8K",
        "outputId": "d5a894b5-ccc1-4679-fb2c-5e4432c159b3"
      },
      "execution_count": null,
      "outputs": [
        {
          "output_type": "stream",
          "name": "stdout",
          "text": [
            "Missing values in GDP data after filling:\n",
            "Country Name      0\n",
            "Country Code      0\n",
            "Indicator Name    0\n",
            "Indicator Code    0\n",
            "1960              0\n",
            "                 ..\n",
            "2016              0\n",
            "2017              0\n",
            "2018              0\n",
            "2019              0\n",
            "2020              0\n",
            "Length: 65, dtype: int64\n",
            "Country Name    3\n",
            "Country Code    5\n",
            "Series Name     5\n",
            "Series Code     5\n",
            "1960            0\n",
            "               ..\n",
            "2017            0\n",
            "2018            0\n",
            "2019            0\n",
            "2020            0\n",
            "2021            0\n",
            "Length: 66, dtype: int64\n"
          ]
        }
      ]
    },
    {
      "cell_type": "markdown",
      "source": [
        "**Handling non-numeric missing values**"
      ],
      "metadata": {
        "id": "-KZNFQ9zF9KD"
      }
    },
    {
      "cell_type": "markdown",
      "source": [
        "After handling numeric missing values in the datasets, I noticed there were some non-numeric missing values in the population data. To address this, I replaced the non-numeric missing values with the placeholder \"Unknown\". This ensures that the dataset remains complete without losing rows, making it ready for further analysis."
      ],
      "metadata": {
        "id": "TEuyxe-dGlll"
      }
    },
    {
      "cell_type": "code",
      "source": [
        "df2 = df2.fillna(\"Unknown\")\n",
        "\n",
        "print(\"Non-numeric missing values handled in Population data:\")\n",
        "print(df2.isnull().sum())"
      ],
      "metadata": {
        "colab": {
          "base_uri": "https://localhost:8080/"
        },
        "id": "jU4l54p1GDR0",
        "outputId": "317accdc-9985-45c0-c2ee-e0c0915f26a0"
      },
      "execution_count": null,
      "outputs": [
        {
          "output_type": "stream",
          "name": "stdout",
          "text": [
            "Non-numeric missing values handled in Population data:\n",
            "Country Name    0\n",
            "Country Code    0\n",
            "Series Name     0\n",
            "Series Code     0\n",
            "1960            0\n",
            "               ..\n",
            "2017            0\n",
            "2018            0\n",
            "2019            0\n",
            "2020            0\n",
            "2021            0\n",
            "Length: 66, dtype: int64\n"
          ]
        }
      ]
    },
    {
      "cell_type": "markdown",
      "source": [
        "**Calculating mean population and mean per capita GDP for each country**\n",
        "\n",
        "In this section, I preprocess the data to compute the mean population and mean GDP per capita for each country from 2001 to 2021. The population data already contains data for all the required years, so I calculate the mean directly across the columns representing the years 2001 to 2021.\n",
        "\n",
        "In the GDP dataset, the column for the year 2021 was missing. To address this, I added a placeholder column for 2021 with NaN values and performed linear interpolation using the data from 2020. After ensuring all necessary year columns were complete, I calculated the mean GDP per capita for each country.\n",
        "\n",
        "This preprocessing ensures consistency across datasets and prepares the data for further analysis."
      ],
      "metadata": {
        "id": "A_OXNo7aITfd"
      }
    },
    {
      "cell_type": "code",
      "source": [
        "# identify year columns (2001-2021)\n",
        "year_columns_2001_2021 = [col for col in year_columns if int(col) >= 2001 and int(col) <= 2021]\n",
        "\n",
        "df2['Mean_Population'] = df2[year_columns_2001_2021].mean(axis=1)\n",
        "print(\"Mean Population (2001–2021) for each country:\")\n",
        "print(df2[['Country Name', 'Mean_Population']])\n",
        "\n",
        "import numpy as np\n",
        "# Add a placeholder column for 2021 with NaN values\n",
        "df1['2021'] = np.nan\n",
        "\n",
        "# Convert the 2021 column to numeric type\n",
        "df1['2021'] = pd.to_numeric(df1['2021'], errors='coerce')\n",
        "\n",
        "# Interpolate missing values for all numeric columns\n",
        "df1['2021'] = df1[['2020', '2021']].interpolate(method='linear', axis=1)['2021']\n",
        "\n",
        "df1['Mean_GDP'] = df1[year_columns].mean(axis=1)\n",
        "print(\"\\nMean GDP (2001–2021) for each country:\")\n",
        "print(df1[['Country Name', 'Mean_GDP']])"
      ],
      "metadata": {
        "colab": {
          "base_uri": "https://localhost:8080/"
        },
        "id": "3C-MEVOHIhtF",
        "outputId": "00706f1f-79c1-4c09-dc3a-cc4dcbf389b0"
      },
      "execution_count": null,
      "outputs": [
        {
          "output_type": "stream",
          "name": "stdout",
          "text": [
            "Mean Population (2001–2021) for each country:\n",
            "                                          Country Name  Mean_Population\n",
            "0                                                Aruba     2.815266e+07\n",
            "1                                          Afghanistan     3.067118e+07\n",
            "2                          Africa Eastern and Southern     5.398680e+08\n",
            "3                           Africa Western and Central     3.647774e+08\n",
            "4                                              Albania     2.930953e+06\n",
            "..                                                 ...              ...\n",
            "267                                            Unknown     2.597370e+08\n",
            "268                                            Unknown     2.597370e+08\n",
            "269                                            Unknown     2.597370e+08\n",
            "270  Data from database: Population estimates and p...     2.597370e+08\n",
            "271                           Last Updated: 12/17/2021     2.597370e+08\n",
            "\n",
            "[272 rows x 2 columns]\n",
            "\n",
            "Mean GDP (2001–2021) for each country:\n",
            "                    Country Name      Mean_GDP\n",
            "0                          Aruba  2.409359e+11\n",
            "1    Africa Eastern and Southern  3.420686e+11\n",
            "2                    Afghanistan  2.553337e+11\n",
            "3     Africa Western and Central  2.446066e+11\n",
            "4                         Angola  1.236265e+11\n",
            "..                           ...           ...\n",
            "261                       Kosovo  4.654146e+11\n",
            "262                  Yemen, Rep.  2.897584e+11\n",
            "263                 South Africa  1.582484e+11\n",
            "264                       Zambia  7.620638e+09\n",
            "265                     Zimbabwe  7.612330e+09\n",
            "\n",
            "[266 rows x 2 columns]\n"
          ]
        }
      ]
    },
    {
      "cell_type": "markdown",
      "source": [
        "**Merging the DataFrames**"
      ],
      "metadata": {
        "id": "XYuAAWAxMTQW"
      }
    },
    {
      "cell_type": "code",
      "source": [
        "merged_data = pd.merge(\n",
        "    df2[['Country Name', 'Mean_Population']],\n",
        "    df1[['Country Name', 'Mean_GDP']],\n",
        "    on='Country Name'\n",
        ")\n",
        "print(merged_data.head())"
      ],
      "metadata": {
        "colab": {
          "base_uri": "https://localhost:8080/"
        },
        "id": "b7yoL85vMdrL",
        "outputId": "05461ec2-2df4-466e-86cf-6ae7ef62592a"
      },
      "execution_count": null,
      "outputs": [
        {
          "output_type": "stream",
          "name": "stdout",
          "text": [
            "                  Country Name  Mean_Population      Mean_GDP\n",
            "0                        Aruba     2.815266e+07  2.409359e+11\n",
            "1                  Afghanistan     3.067118e+07  2.553337e+11\n",
            "2  Africa Eastern and Southern     5.398680e+08  3.420686e+11\n",
            "3   Africa Western and Central     3.647774e+08  2.446066e+11\n",
            "4                      Albania     2.930953e+06  8.920771e+10\n"
          ]
        }
      ]
    },
    {
      "cell_type": "markdown",
      "source": [
        "**Correlation Scatter Plot**"
      ],
      "metadata": {
        "id": "f0eg_pYGM3L4"
      }
    },
    {
      "cell_type": "code",
      "source": [
        "import matplotlib.pyplot as plt\n",
        "\n",
        "plt.scatter(merged_data['Mean_Population'], merged_data['Mean_GDP'])\n",
        "plt.title('Mean Population vs. Mean Per Capita GDP (2001–2021)')\n",
        "plt.xlabel('Mean Population')\n",
        "plt.ylabel('Mean Per Capita GDP')\n",
        "plt.grid(True)\n",
        "plt.show()"
      ],
      "metadata": {
        "colab": {
          "base_uri": "https://localhost:8080/",
          "height": 487
        },
        "id": "sruzCX0lNCTC",
        "outputId": "3e43b56a-32e8-4a9a-96c0-8d7b5957018b"
      },
      "execution_count": null,
      "outputs": [
        {
          "output_type": "display_data",
          "data": {
            "text/plain": [
              "<Figure size 640x480 with 1 Axes>"
            ],
            "image/png": "[encoded data removed]"
          },
          "metadata": {}
        }
      ]
    },
    {
      "cell_type": "markdown",
      "source": [
        "**Interpretation of Scatter Plot**\n",
        "\n",
        "The scatter plot shows no clear linear relationship between the mean population and the mean per capita GDP from 2001 to 2021. Most countries are clustered in the lower-left corner, indicating low population and low per capita GDP. A few outliers are present, with one country having an extremely high population and GDP per capita, while others with low populations exhibit varying GDP levels. The dispersion of points suggests a weak or insignificant correlation, which can be confirmed by evaluating the Pearson Correlation Coefficient."
      ],
      "metadata": {
        "id": "cPOX7B6-NGiq"
      }
    },
    {
      "cell_type": "markdown",
      "source": [
        "**Pearson correlation coefficient**"
      ],
      "metadata": {
        "id": "TeY8tJJiNsKw"
      }
    },
    {
      "cell_type": "code",
      "source": [
        "from scipy.stats import pearsonr\n",
        "\n",
        "correlation, p_value = pearsonr(merged_data['Mean_Population'], merged_data['Mean_GDP'])\n",
        "\n",
        "print(f\"Pearson Correlation Coefficient: {correlation}\")\n",
        "print(f\"P-value: {p_value}\")"
      ],
      "metadata": {
        "colab": {
          "base_uri": "https://localhost:8080/"
        },
        "id": "2KXp5ZWlOEGV",
        "outputId": "a49e3034-4800-48da-aa50-da58d5c418e4"
      },
      "execution_count": null,
      "outputs": [
        {
          "output_type": "stream",
          "name": "stdout",
          "text": [
            "Pearson Correlation Coefficient: 0.6663416327398358\n",
            "P-value: 1.217448183511333e-35\n"
          ]
        }
      ]
    },
    {
      "cell_type": "markdown",
      "source": [
        "The results show a moderate to strong positive correlation between the mean population and the mean per capita GDP from 2001 to 2021, with a Pearson Correlation Coefficient of 0.6663. This indicates that, on average, countries with larger populations are associated with higher GDP per capita. The p-value (\n",
        "1.217x10-35) confirms that this relationship is statistically significant, meaning it is highly unlikely to have occurred by chance.\n",
        "\n",
        "The scatter plot reveals a clustering of countries with low population and GDP per capita, along with a few notable outliers. These outliers suggest that while population plays a role, other factors likely influence GDP per capita. Further investigation could help clarify the impact of these additional variables and refine the analysis."
      ],
      "metadata": {
        "id": "ePAZ6hlzOUWD"
      }
    },
    {
      "cell_type": "markdown",
      "source": [
        "**Linear Regression**"
      ],
      "metadata": {
        "id": "7zJHTMv1Pa4T"
      }
    },
    {
      "cell_type": "code",
      "source": [
        "from sklearn.linear_model import LinearRegression\n",
        "\n",
        "# Independent variable\n",
        "X = merged_data[['Mean_Population']].values\n",
        "\n",
        "# Dependent variable\n",
        "y = merged_data['Mean_GDP'].values\n",
        "\n",
        "model=LinearRegression()\n",
        "model.fit(X, y)\n",
        "\n",
        "slope = model.coef_[0]\n",
        "intercept = model.intercept_\n",
        "\n",
        "print(f\"Slope (Coefficient): {slope}\")\n",
        "print(f\"Intercept: {intercept}\")"
      ],
      "metadata": {
        "colab": {
          "base_uri": "https://localhost:8080/"
        },
        "id": "3-sfYtmmPkZl",
        "outputId": "1836869c-6397-4035-8989-d98ab9ac8d89"
      },
      "execution_count": null,
      "outputs": [
        {
          "output_type": "stream",
          "name": "stdout",
          "text": [
            "Slope (Coefficient): 2666.3168320384134\n",
            "Intercept: 350148621850.64246\n"
          ]
        }
      ]
    },
    {
      "cell_type": "markdown",
      "source": [
        "**Predicting GPD using the trained regression model**\n",
        "\n",
        "I use the trained regression model to predict mean per capita GDP based on the mean population values. These predictions help visualize the regression line and assess how well the model captures the relationship between the variables."
      ],
      "metadata": {
        "id": "-VQxgZExRKFX"
      }
    },
    {
      "cell_type": "code",
      "source": [
        "y_pred = model.predict(X)"
      ],
      "metadata": {
        "id": "pS3y7c76RU5X"
      },
      "execution_count": null,
      "outputs": []
    },
    {
      "cell_type": "markdown",
      "source": [
        "**Scatter Plot**"
      ],
      "metadata": {
        "id": "ozx6CXk_Rfgi"
      }
    },
    {
      "cell_type": "code",
      "source": [
        "# Scatter plot of the actual data\n",
        "plt.scatter(X, y, label='Actual Data', color='blue')\n",
        "\n",
        "# Plot the regression line\n",
        "plt.plot(X, y_pred, label='Regression Line', color='red')\n",
        "\n",
        "# Add labels and title\n",
        "plt.title('Linear Regression: Mean Population vs. Mean GDP')\n",
        "plt.xlabel('Mean Population')\n",
        "plt.ylabel('Mean Per Capita GDP')\n",
        "plt.legend()\n",
        "plt.grid(True)\n",
        "plt.show()"
      ],
      "metadata": {
        "colab": {
          "base_uri": "https://localhost:8080/",
          "height": 472
        },
        "id": "sM0lzvDLRkqQ",
        "outputId": "e4359deb-95d0-4e22-caf8-fed9d29c9846"
      },
      "execution_count": null,
      "outputs": [
        {
          "output_type": "display_data",
          "data": {
            "text/plain": [
              "<Figure size 640x480 with 1 Axes>"
            ],
            "image/png": "[encoded data removed]"
          },
          "metadata": {}
        }
      ]
    },
    {
      "cell_type": "markdown",
      "source": [
        "**Interpretation**\n",
        "\n",
        "This plot illustrates the relationship between the mean population and the mean per capita GDP from 2001 to 2021. The regression line indicates a positive trend, suggesting that countries with larger populations tend to have higher GDP per capita. However, the scattered data points and the presence of outliers show that the relationship is not perfectly linear. Most countries are clustered in the lower-left corner, representing smaller populations and lower GDP per capita, while a few outliers with larger populations significantly influence the trend."
      ],
      "metadata": {
        "id": "7PNhVnl0Snr6"
      }
    },
    {
      "cell_type": "markdown",
      "source": [
        "**Evaluation of regression model**"
      ],
      "metadata": {
        "id": "pznmov8yScLw"
      }
    },
    {
      "cell_type": "code",
      "source": [
        "r_squared = model.score(X, y)\n",
        "print(f\"R-squared: {r_squared}\")"
      ],
      "metadata": {
        "colab": {
          "base_uri": "https://localhost:8080/"
        },
        "id": "zJHoXUZgR4K9",
        "outputId": "1b9c399b-33af-4783-9f6e-d5b291297a96"
      },
      "execution_count": null,
      "outputs": [
        {
          "output_type": "stream",
          "name": "stdout",
          "text": [
            "R-squared: 0.44401117152239034\n"
          ]
        }
      ]
    },
    {
      "cell_type": "markdown",
      "source": [
        "The R2 value of 0.4440 indicates that 44.4% of the variability in mean per capita GDP can be explained by the mean population. This suggests a moderate relationship, with the remaining variability likely influenced by other factors not captured in the model. While population has an impact, it is not the sole determinant of GDP per capita."
      ],
      "metadata": {
        "id": "sBXxSLntSI_f"
      }
    }
  ]
}
